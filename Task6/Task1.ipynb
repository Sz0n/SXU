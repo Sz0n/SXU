{
 "cells": [
  {
   "cell_type": "code",
   "execution_count": 4,
   "metadata": {},
   "outputs": [],
   "source": [
    "import pandas as pd\n",
    "import numpy as np\n",
    "from sklearn import model_selection,neighbors,metrics\n",
    "from scipy import stats\n",
    "url = 'https://archive.ics.uci.edu/ml/machine-learning-databases/iris/iris.data'\n",
    "df = pd.read_csv(url, header=None)"
   ]
  },
  {
   "cell_type": "code",
   "execution_count": 5,
   "metadata": {},
   "outputs": [
    {
     "name": "stdout",
     "output_type": "stream",
     "text": [
      "[1.0, 0.9333333333333333, 1.0, 1.0, 0.8666666666666667, 0.9333333333333333, 0.9333333333333333, 1.0, 1.0, 1.0]\n"
     ]
    }
   ],
   "source": [
    "#podzial zbioru na X i Y\n",
    "data = df.values\n",
    "X = data[:,:-1] #wszystkie wiersze,wszystkie kolumny oprocz ostatniej\n",
    "Y = data[:,-1] #wszystkie wiersze z ostatniej kolumny\n",
    "\n",
    "clf = neighbors.KNeighborsClassifier()\n",
    "k = 10\n",
    "cv = model_selection.StratifiedKFold(n_splits=k)\n",
    "\n",
    "accuracies = []\n",
    "for train, test in cv.split(X, Y):\n",
    "    X_train, Y_train = X[train], Y[train]\n",
    "    X_test, Y_test = X[test], Y[test]\n",
    "\n",
    "    clf.fit(X_train, Y_train)\n",
    "    probas = clf.predict_proba(X_test)\n",
    "    prediction = np.argmax(probas,axis = 1)\n",
    "    prediction = clf.classes_[prediction]\n",
    "    accuracy = metrics.accuracy_score(Y_test, prediction)\n",
    "    accuracies.append(accuracy)\n",
    "\n",
    "print(accuracies)"
   ]
  },
  {
   "cell_type": "code",
   "execution_count": 6,
   "metadata": {},
   "outputs": [
    {
     "name": "stdout",
     "output_type": "stream",
     "text": [
      "Średnia dokładność 0.967 (+- 0.04)\n"
     ]
    }
   ],
   "source": [
    "#usredniona wartosc dokladnosci\n",
    "mean_accuracy = np.mean(accuracies)\n",
    "std_accuracy = np.std(accuracies)\n",
    "print(\"Średnia dokładność %.3f (+- %.2f)\" % (mean_accuracy, std_accuracy))"
   ]
  },
  {
   "cell_type": "code",
   "execution_count": 7,
   "metadata": {},
   "outputs": [
    {
     "name": "stdout",
     "output_type": "stream",
     "text": [
      "[[1.         1.        ]\n",
      " [0.93333333 0.93333333]\n",
      " [1.         1.        ]\n",
      " [0.93333333 1.        ]\n",
      " [0.86666667 0.86666667]\n",
      " [1.         0.93333333]\n",
      " [0.86666667 0.93333333]\n",
      " [1.         1.        ]\n",
      " [1.         1.        ]\n",
      " [1.         1.        ]]\n",
      "[0.96       0.96666667]\n",
      "Test_t:  Ttest_indResult(statistic=-0.2873478855663521, pvalue=0.7771278487505224)\n",
      "Test_w:  WilcoxonResult(statistic=2.0, pvalue=0.5637028616507731)\n"
     ]
    },
    {
     "name": "stderr",
     "output_type": "stream",
     "text": [
      "c:\\users\\kamil\\data_science\\venv\\lib\\site-packages\\scipy\\stats\\morestats.py:2863: UserWarning: Sample size too small for normal approximation.\n",
      "  warnings.warn(\"Sample size too small for normal approximation.\")\n"
     ]
    }
   ],
   "source": [
    "clfs = [\n",
    "    neighbors.KNeighborsClassifier(n_neighbors = 1),\n",
    "    neighbors.KNeighborsClassifier(n_neighbors = 5)\n",
    "       ]\n",
    "url = 'https://archive.ics.uci.edu/ml/machine-learning-databases/iris/iris.data'\n",
    "df = pd.read_csv(url, header=None)\n",
    "data = df.values\n",
    "X = data[:,:-1]\n",
    "y = data[:,-1]\n",
    "\n",
    "k = 10\n",
    "cv = model_selection.StratifiedKFold(n_splits=k)\n",
    "\n",
    "results = []\n",
    "for train, test in cv.split(X,y):\n",
    "    X_train, y_train = X[train], y[train]\n",
    "    X_test, y_test = X[test], y[test]\n",
    "    result = []\n",
    "    for clf in clfs:\n",
    "        clf.fit(X_train, y_train)\n",
    "        probas = clf.predict_proba(X_test)\n",
    "        prediction = np.argmax(probas,axis = 1)\n",
    "        prediction = clf.classes_[prediction]\n",
    "        accuracy = metrics.accuracy_score(y_test, prediction),\n",
    "        result.append(accuracy[0])\n",
    "    results.append(result)\n",
    "results = np.array(results)\n",
    "\n",
    "print(results)\n",
    "\n",
    "test_t = stats.ttest_ind(results[:,0],results[:,1])\n",
    "test_w = stats.wilcoxon(results[:,0],results[:,1])\n",
    "\n",
    "print(np.mean(results,axis=0))\n",
    "print('Test_t: ',test_t)\n",
    "print('Test_w: ',test_w)"
   ]
  },
  {
   "cell_type": "code",
   "execution_count": null,
   "metadata": {},
   "outputs": [],
   "source": []
  }
 ],
 "metadata": {
  "kernelspec": {
   "display_name": "Python 3",
   "language": "python",
   "name": "python3"
  },
  "language_info": {
   "codemirror_mode": {
    "name": "ipython",
    "version": 3
   },
   "file_extension": ".py",
   "mimetype": "text/x-python",
   "name": "python",
   "nbconvert_exporter": "python",
   "pygments_lexer": "ipython3",
   "version": "3.7.1"
  }
 },
 "nbformat": 4,
 "nbformat_minor": 2
}
